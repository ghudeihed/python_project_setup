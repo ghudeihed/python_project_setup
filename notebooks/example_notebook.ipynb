{
 "cells": [
  {
   "cell_type": "code",
   "execution_count": null,
   "metadata": {},
   "outputs": [],
   "source": [
    "import os\n",
    "from utils.env_manager import EnvManager\n",
    "from utils.logging_wrapper import LoggingWrapper\n",
    "\n",
    "# Initialize logging\n",
    "logger = LoggingWrapper(__name__).get_logger()\n",
    "\n",
    "# Initialize environment manager and load .env variables\n",
    "env_manager = EnvManager()\n",
    "\n",
    "def main():\n",
    "    try:\n",
    "        # Get environment variables\n",
    "        number1 = env_manager.get_env_variable('NUMBER1', '10')\n",
    "        number2 = env_manager.get_env_variable('NUMBER2', '5')\n",
    "        \n",
    "        # Convert to integers\n",
    "        num1 = int(number1)\n",
    "        num2 = int(number2)\n",
    "\n",
    "        logger.info(f\"Retrieved environment variables: NUMBER1={num1}, NUMBER2={num2}\")\n",
    "\n",
    "        # Perform a simple calculation\n",
    "        result = num1 + num2\n",
    "        logger.info(f\"The result of adding {num1} and {num2} is {result}\")\n",
    "\n",
    "    except ValueError as e:\n",
    "        logger.error(f\"Error converting environment variables to integers: {e}\")\n",
    "    except Exception as e:\n",
    "        logger.error(f\"An unexpected error occurred: {e}\")"
   ]
  }
 ],
 "metadata": {
  "language_info": {
   "name": "python"
  }
 },
 "nbformat": 4,
 "nbformat_minor": 2
}
