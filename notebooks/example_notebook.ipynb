{
 "cells": [
  {
   "cell_type": "code",
   "execution_count": 7,
   "metadata": {},
   "outputs": [],
   "source": [
    "import os\n",
    "import sys\n",
    "\n",
    "current_dir = os.path.dirname(os.path.abspath('.'))\n",
    "if current_dir not in sys.path:\n",
    "    sys.path.insert(0, current_dir)"
   ]
  },
  {
   "cell_type": "code",
   "execution_count": 8,
   "metadata": {},
   "outputs": [],
   "source": [
    "# Now import the necessary modules\n",
    "from utils import EnvManager, LoggingWrapper\n",
    "\n",
    "# Initialize logging\n",
    "logger = LoggingWrapper(__name__).logger\n",
    "\n",
    "# Initialize environment manager and load .env variables\n",
    "env_manager = EnvManager()\n",
    "\n",
    "def do_something():\n",
    "    try:\n",
    "        # Get environment variables\n",
    "        number1 = env_manager.get_env_variable('NUMBER1', '10')\n",
    "        number2 = env_manager.get_env_variable('NUMBER2', '5')\n",
    "        \n",
    "        # Convert to integers\n",
    "        num1 = int(number1)\n",
    "        num2 = int(number2)\n",
    "\n",
    "        logger.info(f\"Retrieved environment variables: NUMBER1={num1}, NUMBER2={num2}\")\n",
    "\n",
    "        # Perform a simple calculation\n",
    "        result = num1 + num2\n",
    "        logger.info(f\"The result of adding {num1} and {num2} is {result}\")\n",
    "\n",
    "    except ValueError as e:\n",
    "        logger.error(f\"Error converting environment variables to integers: {e}\")\n",
    "    except Exception as e:\n",
    "        logger.error(f\"An unexpected error occurred: {e}\")"
   ]
  },
  {
   "cell_type": "code",
   "execution_count": 9,
   "metadata": {},
   "outputs": [],
   "source": [
    "do_something()"
   ]
  }
 ],
 "metadata": {
  "kernelspec": {
   "display_name": "project-env",
   "language": "python",
   "name": "python3"
  },
  "language_info": {
   "codemirror_mode": {
    "name": "ipython",
    "version": 3
   },
   "file_extension": ".py",
   "mimetype": "text/x-python",
   "name": "python",
   "nbconvert_exporter": "python",
   "pygments_lexer": "ipython3",
   "version": "3.10.14"
  }
 },
 "nbformat": 4,
 "nbformat_minor": 2
}
